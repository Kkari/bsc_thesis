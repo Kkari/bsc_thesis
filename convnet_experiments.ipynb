{
 "cells": [
  {
   "cell_type": "code",
   "execution_count": 1,
   "metadata": {
    "collapsed": false
   },
   "outputs": [
    {
     "ename": "ImportError",
     "evalue": "No module named 'keras'",
     "output_type": "error",
     "traceback": [
      "\u001b[0;31m---------------------------------------------------------------------------\u001b[0m",
      "\u001b[0;31mImportError\u001b[0m                               Traceback (most recent call last)",
      "\u001b[0;32m<ipython-input-1-490b9437d5d1>\u001b[0m in \u001b[0;36m<module>\u001b[0;34m()\u001b[0m\n\u001b[0;32m----> 1\u001b[0;31m \u001b[0;32mfrom\u001b[0m \u001b[0mkeras\u001b[0m\u001b[0;34m.\u001b[0m\u001b[0mmodels\u001b[0m \u001b[0;32mimport\u001b[0m \u001b[0mSequential\u001b[0m\u001b[0;34m\u001b[0m\u001b[0m\n\u001b[0m",
      "\u001b[0;31mImportError\u001b[0m: No module named 'keras'"
     ]
    }
   ],
   "source": [
    "# These are all the modules we'll be using later. Make sure you can import them\n",
    "# before proceeding further.\n",
    "from __future__ import print_function\n",
    "\n",
    "import numpy as np\n",
    "import tensorflow as tf\n",
    "import tensorflow.contrib.slim as slim\n",
    "\n",
    "from tensorflow.examples.tutorials.mnist import input_data\n",
    "from sklearn.linear_model import LogisticRegression"
   ]
  },
  {
   "cell_type": "code",
   "execution_count": null,
   "metadata": {
    "collapsed": true
   },
   "outputs": [],
   "source": [
    "def weight_variable(shape):\n",
    "    initial = tf.truncated_normal(shape, stddev=0.1)\n",
    "    return tf.Variable(initial)\n",
    "\n",
    "def bias_variable(shape):\n",
    "    initial = tf.constant(0.1, shape=shape)\n",
    "    return tf.Variable(initial)\n",
    "\n",
    "def conv2d(x, W):\n",
    "    return tf.nn.conv2d(x, W, strides=[1, 1, 1, 1], padding='SAME')\n",
    "\n",
    "def max_pool_2x2(x):\n",
    "    return tf.nn.max_pool(x, ksize=[1, 2, 2, 1],\n",
    "                        strides=[1, 2, 2, 1], padding='SAME')"
   ]
  },
  {
   "cell_type": "code",
   "execution_count": null,
   "metadata": {
    "collapsed": true
   },
   "outputs": [],
   "source": [
    "depth = 32\n",
    "num_channels = 1\n",
    "batch_size = 16\n",
    "patch_size = 5\n",
    "depth = 32\n",
    "num_hidden = 64\n",
    "num_channels = 1\n",
    "\n",
    "graph = tf.Graph()\n",
    "\n",
    "def build_convnet(depth=32, num_channels=1, batch_size=16, path_size=5, num_hidden=64)\n",
    "    # Placeholders\n",
    "    keep_prob = tf.placeholder(tf.float32)\n",
    "    \n",
    "    # Input data.\n",
    "    tf_train_batch = tf.placeholder(tf.float32, shape=(None, image_size, image_size, num_channels))\n",
    "    # The None at the shape argument means that the dimension is not defined,\n",
    "    tf_train_labels = tf.placeholder(tf.float32, shape=(None, num_labels))\n",
    "\n",
    "    # Constants\n",
    "    tf_valid_dataset = tf.constant(valid_dataset_conv)\n",
    "    tf_test_dataset = tf.constant(test_dataset_conv)\n",
    "\n",
    "    # Variables.\n",
    "    h_conv1_weights = weight_variable([patch_size, patch_size, num_channels, depth])\n",
    "    h_conv1_biases = bias_variable([depth])\n",
    "\n",
    "    h_conv2_weights = weight_variable([patch_size, patch_size, depth, depth * 2])\n",
    "    h_conv2_biases = bias_variable([depth * 2])\n",
    "    \n",
    "    conv_image_size = image_size // 4\n",
    "    fc1_weights = weight_variable([conv_image_size * conv_image_size * depth * 2, num_hidden])\n",
    "    fc1_biases = bias_variable([num_hidden])\n",
    "\n",
    "    output_softmax_weights = weight_variable([num_hidden, num_labels])\n",
    "    output_softmax_biases = bias_variable([num_labels])\n",
    "    \n",
    "    #Define the model:\n",
    "    # First layer, patches of 5x5 into 32 features\n",
    "    h_conv1 = tf.nn.relu(conv2d(tf_train_batch, h_conv1_weights) + h_conv1_biases)\n",
    "    h_pool1 = max_pool_2x2(h_conv1)\n",
    "\n",
    "    # Second layer, patches of 5x5 into 64 features\n",
    "    h_conv2 = tf.nn.relu(conv2d(h_pool1, h_conv2_weights) + h_conv2_biases)\n",
    "    h_pool2 = max_pool_2x2(h_conv2)\n",
    "\n",
    "    # Reshape into the densely connected layer\n",
    "    h_pool2_flat = tf.reshape(h_pool2, [-1, conv_image_size * conv_image_size * depth * 2])\n",
    "    \n",
    "    # Define the fully connected layer\n",
    "    h_fc1 = tf.nn.relu(tf.matmul(h_pool2_flat, fc1_weights) + fc1_biases)\n",
    "    h_fc1_drop = tf.nn.dropout(h_fc1, keep_prob)\n",
    "\n",
    "    # Readout layer\n",
    "    y_conv = tf.nn.softmax(tf.matmul(h_fc1_drop, output_softmax_weights) + output_softmax_biases)"
   ]
  }
 ],
 "metadata": {
  "anaconda-cloud": {},
  "kernelspec": {
   "display_name": "Python [conda root]",
   "language": "python",
   "name": "conda-root-py"
  },
  "language_info": {
   "codemirror_mode": {
    "name": "ipython",
    "version": 3
   },
   "file_extension": ".py",
   "mimetype": "text/x-python",
   "name": "python",
   "nbconvert_exporter": "python",
   "pygments_lexer": "ipython3",
   "version": "3.5.2"
  }
 },
 "nbformat": 4,
 "nbformat_minor": 1
}
