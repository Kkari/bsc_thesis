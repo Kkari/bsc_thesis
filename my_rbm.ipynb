{
 "cells": [
  {
   "cell_type": "code",
   "execution_count": 1,
   "metadata": {
    "collapsed": false
   },
   "outputs": [],
   "source": [
    "import collections\n",
    "import tensorflow as tf\n",
    "from tensorflow.examples.tutorials.mnist import input_data\n",
    "import numpy as np\n",
    "import matplotlib.pyplot as plt\n",
    "import matplotlib.image as mpimg\n",
    "%matplotlib inline"
   ]
  },
  {
   "cell_type": "code",
   "execution_count": 2,
   "metadata": {
    "collapsed": true
   },
   "outputs": [],
   "source": [
    "from sklearn import svm"
   ]
  },
  {
   "cell_type": "code",
   "execution_count": 3,
   "metadata": {
    "collapsed": true
   },
   "outputs": [],
   "source": [
    "import sklearn"
   ]
  },
  {
   "cell_type": "code",
   "execution_count": 4,
   "metadata": {
    "collapsed": false
   },
   "outputs": [
    {
     "name": "stdout",
     "output_type": "stream",
     "text": [
      "Extracting MNIST_data/train-images-idx3-ubyte.gz\n",
      "Extracting MNIST_data/train-labels-idx1-ubyte.gz\n",
      "Extracting MNIST_data/t10k-images-idx3-ubyte.gz\n",
      "Extracting MNIST_data/t10k-labels-idx1-ubyte.gz\n"
     ]
    }
   ],
   "source": [
    "mnist = input_data.read_data_sets(\"MNIST_data/\", one_hot=False)\n",
    "train_images = mnist.train.images\n",
    "test_images = mnist.test.images"
   ]
  },
  {
   "cell_type": "code",
   "execution_count": 5,
   "metadata": {
    "collapsed": false,
    "scrolled": false
   },
   "outputs": [
    {
     "name": "stdout",
     "output_type": "stream",
     "text": [
      "Number of features: 784\n",
      "Number of classes: 10\n",
      "logit shape:  (?, 10)\n",
      "batch_labels shape:  (?, 10)\n",
      "epoch: 0\n",
      "batch_number: 0\n",
      "batch_number: 1000\n",
      "batch_number: 2000\n",
      "batch_number: 3000\n",
      "batch_number: 4000\n",
      "batch_number: 5000\n",
      "rec_loss: 0.161648\n"
     ]
    }
   ],
   "source": [
    "from my_rbm import Rbm\n",
    "num_hidden = 64\n",
    "rbm = Rbm(num_hidden=num_hidden, num_classes=10, num_features=784, learning_rate=0.01)\n",
    "rbm.init_rbm()\n",
    "\n",
    "rbm.fit(mnist.train.images, mnist.test.images, num_epochs=1)"
   ]
  },
  {
   "cell_type": "code",
   "execution_count": 6,
   "metadata": {
    "collapsed": false
   },
   "outputs": [
    {
     "data": {
      "text/plain": [
       "array([[  6.49681866e-01,   1.22322930e-07,   9.92471457e-01,\n",
       "          2.71841716e-02,   8.81810561e-02,   4.33302921e-06,\n",
       "          8.14788491e-02,   9.96131539e-01,   8.06589067e-01,\n",
       "          1.52073902e-04,   7.25681007e-01,   1.22177765e-01,\n",
       "          8.55181459e-03,   2.67883001e-06,   9.99994397e-01,\n",
       "          9.35104936e-08,   3.92473862e-02,   4.15491202e-04,\n",
       "          9.99738157e-01,   7.62607437e-04,   2.54384354e-02,\n",
       "          6.88915825e-05,   9.99999046e-01,   9.99446452e-01,\n",
       "          4.10154769e-07,   9.99893188e-01,   2.21454978e-01,\n",
       "          9.99075651e-01,   9.46852028e-01,   1.55805683e-05,\n",
       "          1.82269735e-03,   9.99998927e-01,   1.61925368e-02,\n",
       "          9.99998569e-01,   3.34390825e-05,   5.00616152e-03,\n",
       "          9.99965787e-01,   6.29075337e-04,   3.14659858e-03,\n",
       "          2.39469437e-03,   1.88556109e-02,   9.06619132e-01,\n",
       "          4.40714620e-02,   1.64024724e-10,   1.15692630e-04,\n",
       "          9.99963045e-01,   3.41693729e-01,   2.75134862e-05,\n",
       "          6.00999056e-06,   1.00000000e+00,   3.38774562e-01,\n",
       "          9.99393702e-01,   9.05189154e-07,   6.28774464e-01,\n",
       "          2.77973264e-01,   1.74878817e-02,   2.06062614e-04,\n",
       "          4.48533967e-07,   3.51974636e-01,   1.58813643e-10,\n",
       "          3.67127413e-08,   9.67798769e-01,   9.96255040e-01,\n",
       "          4.41707257e-08]], dtype=float32)"
      ]
     },
     "execution_count": 6,
     "metadata": {},
     "output_type": "execute_result"
    }
   ],
   "source": [
    "rbm.get_h_prob_out([mnist.train.images[0]])"
   ]
  },
  {
   "cell_type": "code",
   "execution_count": 7,
   "metadata": {
    "collapsed": false,
    "scrolled": true
   },
   "outputs": [
    {
     "name": "stdout",
     "output_type": "stream",
     "text": [
      "done with: 0\n",
      "done with: 1000\n",
      "done with: 2000\n",
      "done with: 3000\n",
      "done with: 4000\n",
      "done with: 5000\n",
      "done with: 6000\n",
      "done with: 7000\n",
      "done with: 8000\n",
      "done with: 9000\n",
      "done with: 10000\n",
      "done with: 11000\n",
      "done with: 12000\n",
      "done with: 13000\n",
      "done with: 14000\n",
      "done with: 15000\n",
      "done with: 16000\n",
      "done with: 17000\n",
      "done with: 18000\n",
      "done with: 19000\n",
      "done with: 20000\n",
      "done with: 21000\n",
      "done with: 22000\n",
      "done with: 23000\n",
      "done with: 24000\n",
      "done with: 25000\n",
      "done with: 26000\n",
      "done with: 27000\n",
      "done with: 28000\n",
      "done with: 29000\n",
      "done with: 30000\n",
      "done with: 31000\n",
      "done with: 32000\n",
      "done with: 33000\n",
      "done with: 34000\n",
      "done with: 35000\n",
      "done with: 36000\n",
      "done with: 37000\n",
      "done with: 38000\n",
      "done with: 39000\n",
      "done with: 40000\n",
      "done with: 41000\n",
      "done with: 42000\n",
      "done with: 43000\n",
      "done with: 44000\n",
      "done with: 45000\n",
      "done with: 46000\n",
      "done with: 47000\n",
      "done with: 48000\n",
      "done with: 49000\n",
      "done with: 50000\n",
      "done with: 51000\n",
      "done with: 52000\n",
      "done with: 53000\n",
      "done with: 54000\n"
     ]
    }
   ],
   "source": [
    "last_output = np.empty((0, rbm.get_h_prob_out([train_images[0]]).shape[1]))\n",
    "last_output.shape\n",
    "for i in range(mnist.train.images.shape[0]):\n",
    "    last_output = np.vstack((last_output, rbm.get_h_prob_out([mnist.train.images[i]])))\n",
    "    if i % 1000 == 0:\n",
    "        print('done with: %s' % i)        "
   ]
  },
  {
   "cell_type": "code",
   "execution_count": 8,
   "metadata": {
    "collapsed": false
   },
   "outputs": [
    {
     "name": "stdout",
     "output_type": "stream",
     "text": [
      "done with: 1\n",
      "done with: 1000\n",
      "done with: 1999\n",
      "done with: 2998\n",
      "done with: 3997\n",
      "done with: 4996\n",
      "done with: 5995\n",
      "done with: 6994\n",
      "done with: 7993\n",
      "done with: 8992\n",
      "done with: 9991\n"
     ]
    }
   ],
   "source": [
    "last_output_test = np.empty((0, rbm.get_h_prob_out([mnist.test.images[0]]).shape[1]))\n",
    "last_output_test.shape\n",
    "for i in range(mnist.test.images.shape[0]):\n",
    "    last_output_test = np.vstack((last_output_test, rbm.get_h_prob_out([mnist.test.images[i]])))\n",
    "    if i % 999 == 0:\n",
    "        print('done with: %s' % (i + 1))        "
   ]
  },
  {
   "cell_type": "code",
   "execution_count": 18,
   "metadata": {
    "collapsed": false
   },
   "outputs": [
    {
     "ename": "AttributeError",
     "evalue": "module 'sklearn' has no attribute 'learn'",
     "output_type": "error",
     "traceback": [
      "\u001b[0;31m---------------------------------------------------------------------------\u001b[0m",
      "\u001b[0;31mAttributeError\u001b[0m                            Traceback (most recent call last)",
      "\u001b[0;32m<ipython-input-18-bcbfc9d39f64>\u001b[0m in \u001b[0;36m<module>\u001b[0;34m()\u001b[0m\n\u001b[0;32m----> 1\u001b[0;31m \u001b[0msklearn\u001b[0m\u001b[0;34m.\u001b[0m\u001b[0mlearn\u001b[0m\u001b[0;34m.\u001b[0m\u001b[0mdatasets\u001b[0m\u001b[0;34m\u001b[0m\u001b[0m\n\u001b[0m\u001b[1;32m      2\u001b[0m \u001b[0mlast_output\u001b[0m\u001b[0;34m.\u001b[0m\u001b[0mshape\u001b[0m\u001b[0;34m\u001b[0m\u001b[0m\n",
      "\u001b[0;31mAttributeError\u001b[0m: module 'sklearn' has no attribute 'learn'"
     ]
    }
   ],
   "source": [
    "sklearn.learn.datasets\n",
    "last_output.shape"
   ]
  },
  {
   "cell_type": "code",
   "execution_count": 10,
   "metadata": {
    "collapsed": false
   },
   "outputs": [
    {
     "data": {
      "text/plain": [
       "(10000, 64)"
      ]
     },
     "execution_count": 10,
     "metadata": {},
     "output_type": "execute_result"
    }
   ],
   "source": [
    "last_output_test.shape"
   ]
  },
  {
   "cell_type": "code",
   "execution_count": 11,
   "metadata": {
    "collapsed": false,
    "scrolled": true
   },
   "outputs": [
    {
     "data": {
      "text/plain": [
       "0.1135"
      ]
     },
     "execution_count": 11,
     "metadata": {},
     "output_type": "execute_result"
    }
   ],
   "source": [
    "clf = svm.SVC(decision_function_shape='ovr', kernel='sigmoid', coef0=1.0)\n",
    "clf.fit(last_output, mnist.train.labels)\n",
    "y_pred = clf.predict(last_output_test)\n",
    "sklearn.metrics.accuracy_score(y_pred=y_pred, y_true=mnist.test.labels)"
   ]
  },
  {
   "cell_type": "code",
   "execution_count": 12,
   "metadata": {
    "collapsed": false
   },
   "outputs": [
    {
     "data": {
      "text/plain": [
       "0.1135"
      ]
     },
     "execution_count": 12,
     "metadata": {},
     "output_type": "execute_result"
    }
   ],
   "source": [
    "clf = svm.SVC(decision_function_shape='ovr', kernel='sigmoid', coef0=0.0)\n",
    "clf.fit(last_output, mnist.train.labels)\n",
    "y_pred = clf.predict(last_output_test)\n",
    "sklearn.metrics.accuracy_score(y_pred=y_pred, y_true=mnist.test.labels)"
   ]
  },
  {
   "cell_type": "code",
   "execution_count": 16,
   "metadata": {
    "collapsed": false
   },
   "outputs": [
    {
     "data": {
      "text/plain": [
       "0.94159999999999999"
      ]
     },
     "execution_count": 16,
     "metadata": {},
     "output_type": "execute_result"
    }
   ],
   "source": [
    "clf = svm.SVC(decision_function_shape='ovr', kernel='poly', degree=2, coef0=0.0)\n",
    "clf.fit(last_output, mnist.train.labels)\n",
    "y_pred = clf.predict(last_output_test)\n",
    "sklearn.metrics.accuracy_score(y_pred=y_pred, y_true=mnist.test.labels)"
   ]
  },
  {
   "cell_type": "code",
   "execution_count": 17,
   "metadata": {
    "collapsed": false
   },
   "outputs": [
    {
     "data": {
      "text/plain": [
       "0.9395"
      ]
     },
     "execution_count": 17,
     "metadata": {},
     "output_type": "execute_result"
    }
   ],
   "source": [
    "clf = svm.SVC(decision_function_shape='ovr', kernel='poly', degree=2, coef0=1.0)\n",
    "clf.fit(last_output, mnist.train.labels)\n",
    "y_pred = clf.predict(last_output_test)\n",
    "sklearn.metrics.accuracy_score(y_pred=y_pred, y_true=mnist.test.labels)"
   ]
  },
  {
   "cell_type": "code",
   "execution_count": 21,
   "metadata": {
    "collapsed": false
   },
   "outputs": [
    {
     "data": {
      "text/plain": [
       "SVC(C=1.0, cache_size=200, class_weight=None, coef0=0.0,\n",
       "  decision_function_shape='ovo', degree=3, gamma='auto', kernel='linear',\n",
       "  max_iter=-1, probability=False, random_state=None, shrinking=True,\n",
       "  tol=0.001, verbose=False)"
      ]
     },
     "execution_count": 21,
     "metadata": {},
     "output_type": "execute_result"
    }
   ],
   "source": [
    "clf_raw = svm.SVC(decision_function_shape='ovr', kernel='linear')\n",
    "clf_raw.fit(mnist.train.images, mnist.train.labels)"
   ]
  },
  {
   "cell_type": "code",
   "execution_count": 23,
   "metadata": {
    "collapsed": false
   },
   "outputs": [
    {
     "data": {
      "text/plain": [
       "0.93930000000000002"
      ]
     },
     "execution_count": 23,
     "metadata": {},
     "output_type": "execute_result"
    }
   ],
   "source": [
    "y_pred_raw = clf_raw.predict(mnist.test.images)\n",
    "sklearn.metrics.accuracy_score(y_pred=y_pred_raw, y_true=mnist.test.labels)"
   ]
  },
  {
   "cell_type": "code",
   "execution_count": 45,
   "metadata": {
    "collapsed": false
   },
   "outputs": [],
   "source": [
    "a = np.asarray([[1,2,3], [4,5,6], [7,8,9]])\n",
    "\n",
    "with open(\"foo.csv\", 'ab') as f:\n",
    "    np.savetxt(f, dw, delimiter=',')"
   ]
  },
  {
   "cell_type": "code",
   "execution_count": 22,
   "metadata": {
    "collapsed": false
   },
   "outputs": [
    {
     "data": {
      "text/plain": [
       "7657.16552734375"
      ]
     },
     "execution_count": 22,
     "metadata": {},
     "output_type": "execute_result"
    }
   ],
   "source": [
    "import sys\n",
    "sys.getsizeof(dw_0) / 1024 / 1024 * mnist.test.images.shape[0]"
   ]
  },
  {
   "cell_type": "markdown",
   "metadata": {
    "collapsed": true
   },
   "source": [
    "* raw mnist: 0.9393\n",
    "* mnist linear, 64 hidden prob: 0.9239\n",
    "* mnist rbf, 64 hidden prob: 0.9472\n",
    "* ploy coef0=0, d=3: 0.9409\n",
    "* ploy coef0=0, d=2: 0.9416\n",
    "* poly coef0=1, d=3: 0.9542\n",
    "* ploy coef0=0, d=2: 0.9395\n",
    "* sigomid coef0=0: 0.1135\n",
    "* sigomid coef0=1: 0.1135"
   ]
  },
  {
   "cell_type": "code",
   "execution_count": null,
   "metadata": {
    "collapsed": true
   },
   "outputs": [],
   "source": []
  }
 ],
 "metadata": {
  "anaconda-cloud": {},
  "kernelspec": {
   "display_name": "Python [conda root]",
   "language": "python",
   "name": "conda-root-py"
  },
  "language_info": {
   "codemirror_mode": {
    "name": "ipython",
    "version": 3
   },
   "file_extension": ".py",
   "mimetype": "text/x-python",
   "name": "python",
   "nbconvert_exporter": "python",
   "pygments_lexer": "ipython3",
   "version": "3.5.2"
  }
 },
 "nbformat": 4,
 "nbformat_minor": 0
}
