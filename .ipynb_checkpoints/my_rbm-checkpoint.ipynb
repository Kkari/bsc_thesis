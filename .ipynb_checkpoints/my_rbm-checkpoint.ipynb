{
 "cells": [
  {
   "cell_type": "code",
   "execution_count": 1,
   "metadata": {
    "collapsed": false
   },
   "outputs": [],
   "source": [
    "import collections\n",
    "import tensorflow as tf\n",
    "from tensorflow.examples.tutorials.mnist import input_data\n",
    "import numpy as np\n",
    "\n",
    "import matplotlib.pyplot as plt\n",
    "import matplotlib.image as mpimg\n",
    "%matplotlib inline"
   ]
  },
  {
   "cell_type": "code",
   "execution_count": 3,
   "metadata": {
    "collapsed": false
   },
   "outputs": [
    {
     "name": "stdout",
     "output_type": "stream",
     "text": [
      "Extracting MNIST_data/train-images-idx3-ubyte.gz\n",
      "Extracting MNIST_data/train-labels-idx1-ubyte.gz\n",
      "Extracting MNIST_data/t10k-images-idx3-ubyte.gz\n",
      "Extracting MNIST_data/t10k-labels-idx1-ubyte.gz\n",
      "(2167, 784)\n",
      "(2167, 2)\n",
      "(11649, 784)\n",
      "(11649, 2)\n"
     ]
    }
   ],
   "source": [
    "mnist = input_data.read_data_sets(\"MNIST_data/\", one_hot=True)\n",
    "train_images = mnist.train.images\n",
    "test_images = mnist.test.images\n",
    "\n",
    "# single_number_train_data_all = np.array(\n",
    "#     [mnist.train.images[idx] for idx, one in enumerate(mnist.train.labels) if one[2] == 1])\n",
    "#\n",
    "# split_point = int(single_number_train_data_all.shape[0] * 0.9)\n",
    "# single_number_train_data = single_number_train_data_all[:split_point]\n",
    "# single_number_validate_data = single_number_train_data_all[split_point:]\n",
    "#\n",
    "# single_number_train_labels_all = np.array(\n",
    "#     [mnist.train.labels[idx] for idx, one in enumerate(mnist.train.labels) if one[2] == 1])\n",
    "# single_number_train_labels = single_number_train_labels_all[:split_point]\n",
    "# single_number_validate_labels = single_number_train_labels_all[split_point:]\n",
    "\n",
    "ones_train_images = np.array([mnist.train.images[idx] for idx, labels in enumerate(mnist.train.labels) if labels[1] == 1])\n",
    "ones_train_labels = np.array([mnist.train.labels[idx, 1:3] for idx, labels in enumerate(mnist.train.labels) if labels[1] == 1])\n",
    "\n",
    "twos_train_images = np.array([mnist.train.images[idx] for idx, labels in enumerate(mnist.train.labels) if labels[2] == 1])\n",
    "twos_train_labels = np.array([mnist.train.labels[idx, 1:3] for idx, labels in enumerate(mnist.train.labels) if labels[2] == 1])\n",
    "\n",
    "ones_test_images = np.array([mnist.test.images[idx] for idx, labels in enumerate(mnist.test.labels) if labels[1] == 1])\n",
    "ones_test_labels = np.array([mnist.test.labels[idx, 1:3] for idx, labels in enumerate(mnist.test.labels) if labels[1] == 1])\n",
    "\n",
    "twos_test_images = np.array([mnist.test.images[idx] for idx, labels in enumerate(mnist.test.labels) if labels[2] == 1])\n",
    "twos_test_labels = np.array([mnist.test.labels[idx, 1:3] for idx, labels in enumerate(mnist.test.labels) if labels[2] == 1])\n",
    "\n",
    "train_images = np.vstack((ones_train_images, twos_train_images))\n",
    "train_labels = np.vstack((ones_train_labels, twos_train_labels))\n",
    "\n",
    "test_images = np.vstack((ones_test_images, twos_test_images))\n",
    "test_labels = np.vstack((ones_test_labels, twos_test_labels))\n",
    "\n",
    "print(test_images.shape)\n",
    "print(test_labels.shape)\n",
    "\n",
    "print(train_images.shape)\n",
    "print(train_labels.shape)"
   ]
  },
  {
   "cell_type": "code",
   "execution_count": 116,
   "metadata": {
    "collapsed": false,
    "scrolled": true
   },
   "outputs": [
    {
     "name": "stdout",
     "output_type": "stream",
     "text": [
      "Number of features: 784\n",
      "Number of classes: 10\n",
      "logit shape:  (?, 10)\n",
      "batch_labels shape:  (?, 10)\n",
      "epoch: 0\n",
      "batch_number: 0\n",
      "batch_number: 1000\n",
      "batch_number: 2000\n",
      "batch_number: 3000\n",
      "batch_number: 4000\n",
      "batch_number: 5000\n",
      "rec_loss: 0.209173\n"
     ]
    }
   ],
   "source": [
    "from my_rbm import Rbm\n",
    "rbm = Rbm(num_hidden=16, num_classes=10, num_features=784, learning_rate=0.01)\n",
    "rbm.init_rbm()\n",
    "\n",
    "rbm.fit(mnist.train.images, mnist.test.images, num_epochs=1)"
   ]
  },
  {
   "cell_type": "code",
   "execution_count": 117,
   "metadata": {
    "collapsed": false,
    "scrolled": true
   },
   "outputs": [
    {
     "name": "stdout",
     "output_type": "stream",
     "text": [
      "(0, 100352)\n",
      "done with: 0\n",
      "done with: 100\n",
      "done with: 200\n",
      "done with: 300\n",
      "done with: 400\n",
      "done with: 500\n",
      "done with: 600\n",
      "done with: 700\n",
      "done with: 800\n",
      "done with: 900\n",
      "done with: 1000\n",
      "done with: 1100\n",
      "done with: 1200\n",
      "done with: 1300\n",
      "done with: 1400\n",
      "done with: 1500\n",
      "done with: 1600\n",
      "done with: 1700\n",
      "done with: 1800\n",
      "done with: 1900\n",
      "done with: 2000\n",
      "done with: 2100\n",
      "done with: 2200\n",
      "done with: 2300\n",
      "done with: 2400\n",
      "done with: 2500\n",
      "done with: 2600\n",
      "done with: 2700\n",
      "done with: 2800\n",
      "done with: 2900\n",
      "done with: 3000\n",
      "done with: 3100\n",
      "done with: 3200\n",
      "done with: 3300\n",
      "done with: 3400\n",
      "done with: 3500\n",
      "done with: 3600\n",
      "done with: 3700\n",
      "done with: 3800\n",
      "done with: 3900\n",
      "done with: 4000\n",
      "done with: 4100\n",
      "done with: 4200\n",
      "done with: 4300\n",
      "done with: 4400\n",
      "done with: 4500\n",
      "done with: 4600\n",
      "done with: 4700\n",
      "done with: 4800\n",
      "done with: 4900\n",
      "done with: 5000\n",
      "done with: 5100\n",
      "done with: 5200\n",
      "done with: 5300\n",
      "done with: 5400\n",
      "done with: 5500\n",
      "done with: 5600\n"
     ]
    },
    {
     "ename": "KeyboardInterrupt",
     "evalue": "",
     "output_type": "error",
     "traceback": [
      "\u001b[0;31m---------------------------------------------------------------------------\u001b[0m",
      "\u001b[0;31mKeyboardInterrupt\u001b[0m                         Traceback (most recent call last)",
      "\u001b[0;32m<ipython-input-117-2651fed888c3>\u001b[0m in \u001b[0;36m<module>\u001b[0;34m()\u001b[0m\n\u001b[1;32m      5\u001b[0m \u001b[0;31m#         print(mnist.train.labels[i])\u001b[0m\u001b[0;34m\u001b[0m\u001b[0;34m\u001b[0m\u001b[0m\n\u001b[1;32m      6\u001b[0m         \u001b[0mdw_new\u001b[0m \u001b[0;34m=\u001b[0m \u001b[0mrbm\u001b[0m\u001b[0;34m.\u001b[0m\u001b[0mget_dw_as_vector\u001b[0m\u001b[0;34m(\u001b[0m\u001b[0;34m[\u001b[0m\u001b[0mmnist\u001b[0m\u001b[0;34m.\u001b[0m\u001b[0mtrain\u001b[0m\u001b[0;34m.\u001b[0m\u001b[0mimages\u001b[0m\u001b[0;34m[\u001b[0m\u001b[0mi\u001b[0m\u001b[0;34m]\u001b[0m\u001b[0;34m]\u001b[0m\u001b[0;34m)\u001b[0m\u001b[0;34m\u001b[0m\u001b[0m\n\u001b[0;32m----> 7\u001b[0;31m         \u001b[0mdw_matrix\u001b[0m \u001b[0;34m=\u001b[0m \u001b[0mnp\u001b[0m\u001b[0;34m.\u001b[0m\u001b[0mvstack\u001b[0m\u001b[0;34m(\u001b[0m\u001b[0;34m(\u001b[0m\u001b[0mdw_matrix\u001b[0m\u001b[0;34m,\u001b[0m \u001b[0mdw_new\u001b[0m\u001b[0;34m)\u001b[0m\u001b[0;34m)\u001b[0m\u001b[0;34m\u001b[0m\u001b[0m\n\u001b[0m\u001b[1;32m      8\u001b[0m         \u001b[0;32mif\u001b[0m \u001b[0mi\u001b[0m \u001b[0;34m%\u001b[0m \u001b[0;36m100\u001b[0m \u001b[0;34m==\u001b[0m \u001b[0;36m0\u001b[0m\u001b[0;34m:\u001b[0m\u001b[0;34m\u001b[0m\u001b[0m\n\u001b[1;32m      9\u001b[0m             \u001b[0mprint\u001b[0m\u001b[0;34m(\u001b[0m\u001b[0;34m'done with: %s'\u001b[0m \u001b[0;34m%\u001b[0m \u001b[0mi\u001b[0m\u001b[0;34m)\u001b[0m\u001b[0;34m\u001b[0m\u001b[0m\n",
      "\u001b[0;32m/usr/local/lib/python3.5/dist-packages/numpy/core/shape_base.py\u001b[0m in \u001b[0;36mvstack\u001b[0;34m(tup)\u001b[0m\n\u001b[1;32m    228\u001b[0m \u001b[0;34m\u001b[0m\u001b[0m\n\u001b[1;32m    229\u001b[0m     \"\"\"\n\u001b[0;32m--> 230\u001b[0;31m     \u001b[0;32mreturn\u001b[0m \u001b[0m_nx\u001b[0m\u001b[0;34m.\u001b[0m\u001b[0mconcatenate\u001b[0m\u001b[0;34m(\u001b[0m\u001b[0;34m[\u001b[0m\u001b[0matleast_2d\u001b[0m\u001b[0;34m(\u001b[0m\u001b[0m_m\u001b[0m\u001b[0;34m)\u001b[0m \u001b[0;32mfor\u001b[0m \u001b[0m_m\u001b[0m \u001b[0;32min\u001b[0m \u001b[0mtup\u001b[0m\u001b[0;34m]\u001b[0m\u001b[0;34m,\u001b[0m \u001b[0;36m0\u001b[0m\u001b[0;34m)\u001b[0m\u001b[0;34m\u001b[0m\u001b[0m\n\u001b[0m\u001b[1;32m    231\u001b[0m \u001b[0;34m\u001b[0m\u001b[0m\n\u001b[1;32m    232\u001b[0m \u001b[0;32mdef\u001b[0m \u001b[0mhstack\u001b[0m\u001b[0;34m(\u001b[0m\u001b[0mtup\u001b[0m\u001b[0;34m)\u001b[0m\u001b[0;34m:\u001b[0m\u001b[0;34m\u001b[0m\u001b[0m\n",
      "\u001b[0;31mKeyboardInterrupt\u001b[0m: "
     ]
    }
   ],
   "source": [
    "with open('mnist_gradients_16_hidden_first_39000.csv', 'ba') as f_handler:\n",
    "    dw_matrix = np.empty((0,rbm.get_dw_as_vector([mnist.train.images[0]]).shape[0]))\n",
    "    print(dw.shape)\n",
    "    for i in range(39000):\n",
    "#         print(mnist.train.labels[i])\n",
    "        dw_new = rbm.get_dw_as_vector([mnist.train.images[i]])\n",
    "        dw_matrix = np.vstack((dw_matrix, dw_new))\n",
    "        if i % 100 == 0:\n",
    "            print('done with: %s' % i)\n",
    "            np.savetxt(f_handler, dw_matrix)\n",
    "            dw_matrix = np.empty(dw_matrix.shape)\n",
    "        "
   ]
  },
  {
   "cell_type": "code",
   "execution_count": 114,
   "metadata": {
    "collapsed": false
   },
   "outputs": [
    {
     "data": {
      "text/plain": [
       "39384.61538461538"
      ]
     },
     "execution_count": 114,
     "metadata": {},
     "output_type": "execute_result"
    }
   ],
   "source": [
    "(50 * 1024) / 1.3"
   ]
  },
  {
   "cell_type": "code",
   "execution_count": 41,
   "metadata": {
    "collapsed": false,
    "scrolled": true
   },
   "outputs": [
    {
     "data": {
      "text/plain": [
       "array([[ -2.19632420e-05,  -2.16513240e-06,  -1.35064749e-06, ...,\n",
       "         -1.49327316e-05,  -1.19633274e-04,  -1.17322234e-04],\n",
       "       [ -2.19632420e-05,  -2.16513240e-06,  -1.35064749e-06, ...,\n",
       "         -1.49327316e-05,  -1.19633274e-04,  -1.17322234e-04],\n",
       "       [ -3.17564736e-05,  -4.90745208e-07,  -9.91489273e-08, ...,\n",
       "         -1.88157173e-05,  -2.92381480e-10,  -2.04646631e-06]], dtype=float32)"
      ]
     },
     "execution_count": 41,
     "metadata": {},
     "output_type": "execute_result"
    }
   ],
   "source": [
    "dw"
   ]
  },
  {
   "cell_type": "code",
   "execution_count": 34,
   "metadata": {
    "collapsed": false
   },
   "outputs": [
    {
     "name": "stdout",
     "output_type": "stream",
     "text": [
      "[ -2.19632420e-05  -2.16513240e-06  -1.35064749e-06 ...,  -1.49327316e-05\n",
      "  -1.19633274e-04  -1.17322234e-04]\n",
      "[ 0.99997807  0.99999785  0.99999863 ...,  0.99998504  0.99988037\n",
      "  0.9998827 ]\n",
      "[ -2.19347494e-05  -2.14576949e-06  -1.37090774e-06 ...,  -1.49608777e-05\n",
      "  -1.19633674e-04  -1.17308824e-04]\n"
     ]
    }
   ],
   "source": []
  },
  {
   "cell_type": "code",
   "execution_count": 45,
   "metadata": {
    "collapsed": false
   },
   "outputs": [],
   "source": [
    "a = np.asarray([[1,2,3], [4,5,6], [7,8,9]])\n",
    "\n",
    "with open(\"foo.csv\", 'ab') as f:\n",
    "    np.savetxt(f, dw, delimiter=',')"
   ]
  },
  {
   "cell_type": "code",
   "execution_count": 22,
   "metadata": {
    "collapsed": false
   },
   "outputs": [
    {
     "data": {
      "text/plain": [
       "7657.16552734375"
      ]
     },
     "execution_count": 22,
     "metadata": {},
     "output_type": "execute_result"
    }
   ],
   "source": [
    "import sys\n",
    "sys.getsizeof(dw_0) / 1024 / 1024 * mnist.test.images.shape[0]"
   ]
  },
  {
   "cell_type": "code",
   "execution_count": null,
   "metadata": {
    "collapsed": true
   },
   "outputs": [],
   "source": []
  }
 ],
 "metadata": {
  "anaconda-cloud": {},
  "kernelspec": {
   "display_name": "Python [conda root]",
   "language": "python",
   "name": "conda-root-py"
  },
  "language_info": {
   "codemirror_mode": {
    "name": "ipython",
    "version": 3
   },
   "file_extension": ".py",
   "mimetype": "text/x-python",
   "name": "python",
   "nbconvert_exporter": "python",
   "pygments_lexer": "ipython3",
   "version": "3.5.2"
  }
 },
 "nbformat": 4,
 "nbformat_minor": 0
}
