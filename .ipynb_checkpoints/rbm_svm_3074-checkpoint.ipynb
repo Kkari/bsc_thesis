{
 "cells": [
  {
   "cell_type": "code",
   "execution_count": null,
   "metadata": {
    "collapsed": true
   },
   "outputs": [],
   "source": [
    "import collections\n",
    "import tensorflow as tf\n",
    "from tensorflow.examples.tutorials.mnist import input_data\n",
    "import numpy as np\n",
    "import matplotlib.pyplot as plt\n",
    "import matplotlib.image as mpimg\n",
    "import sklearn\n",
    "import seaborn as sns\n",
    "from sklearn import svm\n",
    "from my_rbm import Rbm\n",
    "import six.moves.cPickle as pickle\n",
    "import sys\n",
    "from pandas import *\n",
    "from sklearn.preprocessing import OneHotEncoder\n",
    "%matplotlib inline"
   ]
  },
  {
   "cell_type": "code",
   "execution_count": null,
   "metadata": {
    "collapsed": true
   },
   "outputs": [],
   "source": [
    "def unpickle(file):\n",
    "    fo = open(file, 'rb')\n",
    "    dict = pickle.load(fo, encoding='latin-1')\n",
    "    fo.close()\n",
    "    return dict\n",
    "\n",
    "def from_flat_to_3d(image):\n",
    "#     print(image.shape)\n",
    "    return np.dstack((image[0:1024].reshape(32,32),\n",
    "                       image[1024:2048].reshape(32,32),\n",
    "                       image[2048:3072].reshape(32,32)))\n",
    "\n",
    "cifar_test = unpickle('cifar-10-batches-py/test_batch')\n",
    "cifar_test['data'] = cifar_test['data'].astype(np.float32) / 255\n",
    "cifar_test['data_3d'] = np.array([from_flat_to_3d(image) for image in cifar_test['data']])\n",
    "\n",
    "cifar = unpickle('cifar-10-batches-py/data_batch_1')\n",
    "for i in range(2, 6):\n",
    "    tmp = unpickle('cifar-10-batches-py/data_batch_' + str(i))\n",
    "    cifar['data'] = np.vstack((cifar['data'], tmp['data']))\n",
    "    cifar['labels'] = np.concatenate((cifar['labels'], tmp['labels']))\n",
    "\n",
    "cifar['data'] = cifar['data'].astype(np.float32) / 255\n",
    "cifar['data_3d'] = np.array([from_flat_to_3d(image) for image in cifar['data']])\n",
    "\n",
    "# cifar['data_bw'] = (cifar['data'][:,0:1024] + cifar['data'][:,1024:2048] + cifar['data'][:, 2048:3072]) / 3 \n",
    "# cifar_test['data_bw'] = (cifar_test['data'][:,0:1024] + cifar_test['data'][:,1024:2048] + cifar_test['data'][:, 2048:3072]) / 3 \n",
    "\n",
    "enc = OneHotEncoder()\n",
    "cifar['labels_oh'] = enc.fit_transform(cifar['labels'].reshape(-1, 1))\n",
    "cifar['labels_oh'] = cifar['labels_oh'].toarray()\n",
    "\n",
    "cifar_test['labels'] = np.array(cifar_test['labels'])\n",
    "cifar_test['labels_oh'] = enc.fit_transform(cifar_test['labels'].reshape(-1, 1))\n",
    "cifar_test['labels_oh'] = cifar_test['labels_oh'].toarray()\n",
    "\n",
    "# pca = PCA(whiten=True)\n",
    "# cifar['data_bw_whitened'] = pca.fit_transform(cifar['data_bw'])\n",
    "# cifar_test['data_bw_whitened'] = pca.fit_transform(cifar_test['data_bw'])"
   ]
  },
  {
   "cell_type": "code",
   "execution_count": null,
   "metadata": {
    "collapsed": true
   },
   "outputs": [],
   "source": [
    "num_hidden = 763\n",
    "num_epochs=10\n",
    "rbm = Rbm(num_hidden=num_hidden, num_classes=10, num_features=3072, learning_rate=0.001)\n",
    "rbm.init_rbm()\n",
    "rbm.fit(cifar['data'], cifar_test['data'], num_epochs=num_epochs)num_hidden = 761\n",
    "num_epochs=10\n",
    "rbm = Rbm(num_hidden=num_hidden, num_classes=10, num_features=3072, learning_rate=0.001)\n",
    "rbm.init_rbm()\n",
    "rbm.fit(cifar['data'], cifar_test['data'], num_epochs=num_epochs)"
   ]
  },
  {
   "cell_type": "code",
   "execution_count": null,
   "metadata": {
    "collapsed": true
   },
   "outputs": [],
   "source": [
    "last_output = np.empty((0, rbm.get_h_prob_out([cifar['data'][0]]).shape[1]))\n",
    "last_output.shape\n",
    "for i in range(cifar['data'].shape[0]):\n",
    "    last_output = np.vstack((last_output, rbm.get_h_prob_out([cifar['data'][i]])))\n",
    "    if i % 1000 == 0:\n",
    "        print('done with: %s' % i)"
   ]
  },
  {
   "cell_type": "code",
   "execution_count": null,
   "metadata": {
    "collapsed": true
   },
   "outputs": [],
   "source": [
    "last_output_test = np.empty((0, rbm.get_h_prob_out([cifar_test['data'][0]]).shape[1]))\n",
    "last_output_test.shape\n",
    "for i in range(cifar_test['data'].shape[0]):\n",
    "    last_output_test = np.vstack((last_output_test, rbm.get_h_prob_out([cifar_test['data'][i]])))\n",
    "    if i % 999 == 0:\n",
    "        print('done with: %s' % (i + 1))"
   ]
  },
  {
   "cell_type": "code",
   "execution_count": null,
   "metadata": {
    "collapsed": true
   },
   "outputs": [],
   "source": [
    "clf = svm.SVC(decision_function_shape='ovr', kernel='poly', degree=3, coef0=1.0)\n",
    "clf.fit(last_output, cifar['labels'])\n",
    "clf.score(last_output_test, cifar_test['labels'])"
   ]
  }
 ],
 "metadata": {
  "anaconda-cloud": {},
  "kernelspec": {
   "display_name": "Python [conda root]",
   "language": "python",
   "name": "conda-root-py"
  },
  "language_info": {
   "codemirror_mode": {
    "name": "ipython",
    "version": 3
   },
   "file_extension": ".py",
   "mimetype": "text/x-python",
   "name": "python",
   "nbconvert_exporter": "python",
   "pygments_lexer": "ipython3",
   "version": "3.5.2"
  }
 },
 "nbformat": 4,
 "nbformat_minor": 1
}
